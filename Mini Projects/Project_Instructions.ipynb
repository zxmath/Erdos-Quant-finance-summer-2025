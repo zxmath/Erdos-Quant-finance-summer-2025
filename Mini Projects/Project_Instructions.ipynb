{
 "cells": [
  {
   "cell_type": "markdown",
   "id": "5be535ba",
   "metadata": {},
   "source": [
    "# Mini-Project Instructions and Course Certificate\n",
    "\n",
    "\n",
    "Throughout the course, you will complete a series of mini-projects that apply quantitative methods in finance. These projects are open-ended, and you're encouraged to explore beyond the specific topics and techniques discussed in class.\n",
    "\n",
    "Projects will be due at the end of the course (exact date to be announced) and may be submitted either as a single Jupyter notebook or as multiple notebooks.\n",
    "\n",
    "Both the quality of your code and the clarity of your explanations will be considered in the evaluation.\n",
    "\n",
    "Collaboration is encouraged, but each student must submit original work.\n",
    "\n",
    "The method of submission will be announced at a later date.\n",
    "\n",
    "Completion of the mini-projects is required to receive a certificate of completion.\n",
    "\n",
    "Exceptional submissions may be selected for a showcase at the end of the semester."
   ]
  }
 ],
 "metadata": {
  "kernelspec": {
   "display_name": "Python 3 (ipykernel)",
   "language": "python",
   "name": "python3"
  },
  "language_info": {
   "codemirror_mode": {
    "name": "ipython",
    "version": 3
   },
   "file_extension": ".py",
   "mimetype": "text/x-python",
   "name": "python",
   "nbconvert_exporter": "python",
   "pygments_lexer": "ipython3",
   "version": "3.9.13"
  }
 },
 "nbformat": 4,
 "nbformat_minor": 5
}
